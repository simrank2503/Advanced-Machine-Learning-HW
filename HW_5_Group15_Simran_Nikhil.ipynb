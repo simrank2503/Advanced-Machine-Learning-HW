{
 "cells": [
  {
   "cell_type": "markdown",
   "metadata": {
    "id": "_0gfAbD1BRax"
   },
   "source": [
    "# Assignment 5 #\n",
    "### Due: Friday, November 17th to be submitted via Canvas by 11:59 pm ###\n",
    "### Total points: **65** ###"
   ]
  },
  {
   "cell_type": "markdown",
   "metadata": {
    "id": "WWSTziq5jJ4P"
   },
   "source": [
    "Homework Group - 15\n",
    "<br> <br>\n",
    "Student Names - <br>Simran Kaur (sk57859), <br>Nikhil Nair (nn8446)"
   ]
  },
  {
   "cell_type": "markdown",
   "metadata": {
    "id": "omOSpxMmBTQE"
   },
   "source": [
    "# Q1: Support Vector Machines (10 points)\n",
    "\n",
    "In this question, we will explore support vector machines for the Spam Base dataset from the UCI repository."
   ]
  },
  {
   "cell_type": "code",
   "execution_count": 1,
   "metadata": {
    "id": "0GbdHYxjLiok"
   },
   "outputs": [],
   "source": [
    "import numpy as np\n",
    "from sklearn.preprocessing import StandardScaler\n",
    "from sklearn.svm import SVC\n",
    "from sklearn.linear_model import LogisticRegression\n",
    "from sklearn.metrics import make_scorer, accuracy_score\n",
    "from sklearn.model_selection import train_test_split, cross_val_score"
   ]
  },
  {
   "cell_type": "code",
   "execution_count": 2,
   "metadata": {
    "id": "tVj75ETFMaUJ"
   },
   "outputs": [],
   "source": [
    "seed = 42"
   ]
  },
  {
   "cell_type": "code",
   "execution_count": 3,
   "metadata": {
    "colab": {
     "base_uri": "https://localhost:8080/"
    },
    "id": "26ixmQ9qT6z3",
    "outputId": "06a75107-6c0d-4a08-8065-3aac49bb6bbe"
   },
   "outputs": [
    {
     "name": "stdout",
     "output_type": "stream",
     "text": [
      "Requirement already satisfied: ucimlrepo in c:\\users\\simran\\anaconda3\\lib\\site-packages (0.0.3)\n"
     ]
    }
   ],
   "source": [
    "!pip install ucimlrepo"
   ]
  },
  {
   "cell_type": "code",
   "execution_count": 4,
   "metadata": {
    "colab": {
     "base_uri": "https://localhost:8080/"
    },
    "id": "DlQyfxg0YuB0",
    "outputId": "691ff4c8-0b49-4305-d1e6-7afee70bb04e"
   },
   "outputs": [
    {
     "name": "stdout",
     "output_type": "stream",
     "text": [
      "Abstract: Classifying Email as Spam or Non-Spam\n",
      "Number of instances: 4601\n",
      "Number of features: 57\n",
      "0                 word_freq_make\n",
      "1              word_freq_address\n",
      "2                  word_freq_all\n",
      "3                   word_freq_3d\n",
      "4                  word_freq_our\n",
      "5                 word_freq_over\n",
      "6               word_freq_remove\n",
      "7             word_freq_internet\n",
      "8                word_freq_order\n",
      "9                 word_freq_mail\n",
      "10             word_freq_receive\n",
      "11                word_freq_will\n",
      "12              word_freq_people\n",
      "13              word_freq_report\n",
      "14           word_freq_addresses\n",
      "15                word_freq_free\n",
      "16            word_freq_business\n",
      "17               word_freq_email\n",
      "18                 word_freq_you\n",
      "19              word_freq_credit\n",
      "20                word_freq_your\n",
      "21                word_freq_font\n",
      "22                 word_freq_000\n",
      "23               word_freq_money\n",
      "24                  word_freq_hp\n",
      "25                 word_freq_hpl\n",
      "26              word_freq_george\n",
      "27                 word_freq_650\n",
      "28                 word_freq_lab\n",
      "29                word_freq_labs\n",
      "30              word_freq_telnet\n",
      "31                 word_freq_857\n",
      "32                word_freq_data\n",
      "33                 word_freq_415\n",
      "34                  word_freq_85\n",
      "35          word_freq_technology\n",
      "36                word_freq_1999\n",
      "37               word_freq_parts\n",
      "38                  word_freq_pm\n",
      "39              word_freq_direct\n",
      "40                  word_freq_cs\n",
      "41             word_freq_meeting\n",
      "42            word_freq_original\n",
      "43             word_freq_project\n",
      "44                  word_freq_re\n",
      "45                 word_freq_edu\n",
      "46               word_freq_table\n",
      "47          word_freq_conference\n",
      "48                   char_freq_;\n",
      "49                   char_freq_(\n",
      "50                   char_freq_[\n",
      "51                   char_freq_!\n",
      "52                   char_freq_$\n",
      "53                   char_freq_#\n",
      "54    capital_run_length_average\n",
      "55    capital_run_length_longest\n",
      "56      capital_run_length_total\n",
      "57                         Class\n",
      "Name: name, dtype: object\n"
     ]
    }
   ],
   "source": [
    "from ucimlrepo import fetch_ucirepo\n",
    "# fetch dataset\n",
    "spambase = fetch_ucirepo(id=94)\n",
    "\n",
    "# data (as pandas dataframes)\n",
    "X = spambase.data.features\n",
    "y = spambase.data.targets\n",
    "print(\"Abstract:\", spambase.metadata['abstract'])\n",
    "print(\"Number of instances:\", spambase.metadata['num_instances'])\n",
    "print(\"Number of features:\", spambase.metadata['num_features'])\n",
    "print(spambase.variables['name'])"
   ]
  },
  {
   "cell_type": "code",
   "execution_count": 5,
   "metadata": {
    "id": "Hkpnd9HBjUMm"
   },
   "outputs": [],
   "source": [
    "# Reloading based on update mail\n",
    "import pandas as pd\n",
    "\n",
    "df = pd.read_csv(\"spambase.data\", header=None)\n",
    "y = df[57]\n",
    "X = df.drop(columns=[57])"
   ]
  },
  {
   "cell_type": "code",
   "execution_count": 6,
   "metadata": {
    "colab": {
     "base_uri": "https://localhost:8080/",
     "height": 236
    },
    "id": "lmKGx3T8ZXci",
    "outputId": "d89ede24-c309-480c-ffbc-6a78152be840"
   },
   "outputs": [
    {
     "data": {
      "text/html": [
       "<div>\n",
       "<style scoped>\n",
       "    .dataframe tbody tr th:only-of-type {\n",
       "        vertical-align: middle;\n",
       "    }\n",
       "\n",
       "    .dataframe tbody tr th {\n",
       "        vertical-align: top;\n",
       "    }\n",
       "\n",
       "    .dataframe thead th {\n",
       "        text-align: right;\n",
       "    }\n",
       "</style>\n",
       "<table border=\"1\" class=\"dataframe\">\n",
       "  <thead>\n",
       "    <tr style=\"text-align: right;\">\n",
       "      <th></th>\n",
       "      <th>0</th>\n",
       "      <th>1</th>\n",
       "      <th>2</th>\n",
       "      <th>3</th>\n",
       "      <th>4</th>\n",
       "      <th>5</th>\n",
       "      <th>6</th>\n",
       "      <th>7</th>\n",
       "      <th>8</th>\n",
       "      <th>9</th>\n",
       "      <th>...</th>\n",
       "      <th>47</th>\n",
       "      <th>48</th>\n",
       "      <th>49</th>\n",
       "      <th>50</th>\n",
       "      <th>51</th>\n",
       "      <th>52</th>\n",
       "      <th>53</th>\n",
       "      <th>54</th>\n",
       "      <th>55</th>\n",
       "      <th>56</th>\n",
       "    </tr>\n",
       "  </thead>\n",
       "  <tbody>\n",
       "    <tr>\n",
       "      <th>0</th>\n",
       "      <td>0.00</td>\n",
       "      <td>0.64</td>\n",
       "      <td>0.64</td>\n",
       "      <td>0.0</td>\n",
       "      <td>0.32</td>\n",
       "      <td>0.00</td>\n",
       "      <td>0.00</td>\n",
       "      <td>0.00</td>\n",
       "      <td>0.00</td>\n",
       "      <td>0.00</td>\n",
       "      <td>...</td>\n",
       "      <td>0.0</td>\n",
       "      <td>0.00</td>\n",
       "      <td>0.000</td>\n",
       "      <td>0.0</td>\n",
       "      <td>0.778</td>\n",
       "      <td>0.000</td>\n",
       "      <td>0.000</td>\n",
       "      <td>3.756</td>\n",
       "      <td>61</td>\n",
       "      <td>278</td>\n",
       "    </tr>\n",
       "    <tr>\n",
       "      <th>1</th>\n",
       "      <td>0.21</td>\n",
       "      <td>0.28</td>\n",
       "      <td>0.50</td>\n",
       "      <td>0.0</td>\n",
       "      <td>0.14</td>\n",
       "      <td>0.28</td>\n",
       "      <td>0.21</td>\n",
       "      <td>0.07</td>\n",
       "      <td>0.00</td>\n",
       "      <td>0.94</td>\n",
       "      <td>...</td>\n",
       "      <td>0.0</td>\n",
       "      <td>0.00</td>\n",
       "      <td>0.132</td>\n",
       "      <td>0.0</td>\n",
       "      <td>0.372</td>\n",
       "      <td>0.180</td>\n",
       "      <td>0.048</td>\n",
       "      <td>5.114</td>\n",
       "      <td>101</td>\n",
       "      <td>1028</td>\n",
       "    </tr>\n",
       "    <tr>\n",
       "      <th>2</th>\n",
       "      <td>0.06</td>\n",
       "      <td>0.00</td>\n",
       "      <td>0.71</td>\n",
       "      <td>0.0</td>\n",
       "      <td>1.23</td>\n",
       "      <td>0.19</td>\n",
       "      <td>0.19</td>\n",
       "      <td>0.12</td>\n",
       "      <td>0.64</td>\n",
       "      <td>0.25</td>\n",
       "      <td>...</td>\n",
       "      <td>0.0</td>\n",
       "      <td>0.01</td>\n",
       "      <td>0.143</td>\n",
       "      <td>0.0</td>\n",
       "      <td>0.276</td>\n",
       "      <td>0.184</td>\n",
       "      <td>0.010</td>\n",
       "      <td>9.821</td>\n",
       "      <td>485</td>\n",
       "      <td>2259</td>\n",
       "    </tr>\n",
       "    <tr>\n",
       "      <th>3</th>\n",
       "      <td>0.00</td>\n",
       "      <td>0.00</td>\n",
       "      <td>0.00</td>\n",
       "      <td>0.0</td>\n",
       "      <td>0.63</td>\n",
       "      <td>0.00</td>\n",
       "      <td>0.31</td>\n",
       "      <td>0.63</td>\n",
       "      <td>0.31</td>\n",
       "      <td>0.63</td>\n",
       "      <td>...</td>\n",
       "      <td>0.0</td>\n",
       "      <td>0.00</td>\n",
       "      <td>0.137</td>\n",
       "      <td>0.0</td>\n",
       "      <td>0.137</td>\n",
       "      <td>0.000</td>\n",
       "      <td>0.000</td>\n",
       "      <td>3.537</td>\n",
       "      <td>40</td>\n",
       "      <td>191</td>\n",
       "    </tr>\n",
       "    <tr>\n",
       "      <th>4</th>\n",
       "      <td>0.00</td>\n",
       "      <td>0.00</td>\n",
       "      <td>0.00</td>\n",
       "      <td>0.0</td>\n",
       "      <td>0.63</td>\n",
       "      <td>0.00</td>\n",
       "      <td>0.31</td>\n",
       "      <td>0.63</td>\n",
       "      <td>0.31</td>\n",
       "      <td>0.63</td>\n",
       "      <td>...</td>\n",
       "      <td>0.0</td>\n",
       "      <td>0.00</td>\n",
       "      <td>0.135</td>\n",
       "      <td>0.0</td>\n",
       "      <td>0.135</td>\n",
       "      <td>0.000</td>\n",
       "      <td>0.000</td>\n",
       "      <td>3.537</td>\n",
       "      <td>40</td>\n",
       "      <td>191</td>\n",
       "    </tr>\n",
       "  </tbody>\n",
       "</table>\n",
       "<p>5 rows × 57 columns</p>\n",
       "</div>"
      ],
      "text/plain": [
       "     0     1     2    3     4     5     6     7     8     9   ...   47    48  \\\n",
       "0  0.00  0.64  0.64  0.0  0.32  0.00  0.00  0.00  0.00  0.00  ...  0.0  0.00   \n",
       "1  0.21  0.28  0.50  0.0  0.14  0.28  0.21  0.07  0.00  0.94  ...  0.0  0.00   \n",
       "2  0.06  0.00  0.71  0.0  1.23  0.19  0.19  0.12  0.64  0.25  ...  0.0  0.01   \n",
       "3  0.00  0.00  0.00  0.0  0.63  0.00  0.31  0.63  0.31  0.63  ...  0.0  0.00   \n",
       "4  0.00  0.00  0.00  0.0  0.63  0.00  0.31  0.63  0.31  0.63  ...  0.0  0.00   \n",
       "\n",
       "      49   50     51     52     53     54   55    56  \n",
       "0  0.000  0.0  0.778  0.000  0.000  3.756   61   278  \n",
       "1  0.132  0.0  0.372  0.180  0.048  5.114  101  1028  \n",
       "2  0.143  0.0  0.276  0.184  0.010  9.821  485  2259  \n",
       "3  0.137  0.0  0.137  0.000  0.000  3.537   40   191  \n",
       "4  0.135  0.0  0.135  0.000  0.000  3.537   40   191  \n",
       "\n",
       "[5 rows x 57 columns]"
      ]
     },
     "execution_count": 6,
     "metadata": {},
     "output_type": "execute_result"
    }
   ],
   "source": [
    "X.head()"
   ]
  },
  {
   "cell_type": "code",
   "execution_count": 7,
   "metadata": {
    "id": "tukYZVbDZsG-"
   },
   "outputs": [],
   "source": [
    "seed = 42\n",
    "y = y.to_numpy().squeeze()\n",
    "X_train, X_test, y_train, y_test = train_test_split(X, y, test_size=0.4, random_state=seed)\n",
    "\n",
    "scaler = StandardScaler()\n",
    "X_train = scaler.fit_transform(X_train)\n",
    "X_test = scaler.transform(X_test)"
   ]
  },
  {
   "cell_type": "markdown",
   "metadata": {
    "id": "1jdODxjI41xm"
   },
   "source": [
    "a. (5 points) Implement the following function to train SVMs with a specified kernel type, hyper-parameter search space, and random state on the Spam Base dataset. Do hyper-parameter search over $C$ using [cross_val_score](https://scikit-learn.org/stable/modules/generated/sklearn.model_selection.cross_val_score.html), setting the number of folds to 5. After finding the best C, please use it to train the final model and return both the final model and the best C."
   ]
  },
  {
   "cell_type": "code",
   "execution_count": 8,
   "metadata": {
    "id": "K90sxpVK7mED"
   },
   "outputs": [],
   "source": [
    "def search_best_svm(kernel, C_search_space, random_state):\n",
    "    best_score = -np.inf\n",
    "    for C in C_search_space:\n",
    "        # Initialize an SVM classifier with the specified kernel type, C value, and random state\n",
    "        ### START CODE ###\n",
    "        svm_classifier = SVC(kernel=kernel, C=C, random_state=random_state)\n",
    "        ### END CODE ###\n",
    "\n",
    "        # Evaluate accuracy scores using 5-fold cross-validation scores\n",
    "        ### START CODE ###\n",
    "        scores = cross_val_score(svm_classifier, X_train, y_train, cv=5)\n",
    "        ### END CODE ###\n",
    "\n",
    "        # Compute the average score and compare with the current best score to update the best C\n",
    "        ### START CODE ###\n",
    "        score = np.mean(scores)\n",
    "        if score > best_score:\n",
    "            best_score = score\n",
    "            best_C = C\n",
    "        ### END CODE ###\n",
    "        print(f\"C: {C:.3f}{'':<5}Avg Cross Val Score: {np.round(score, 3)}\")\n",
    "\n",
    "    print(f\"Best C: {best_C}\")\n",
    "\n",
    "    # Initialize the model using the specified kernel type, best C, and random state;\n",
    "    # and then fit the model using training set\n",
    "    ### START CODE ###\n",
    "    model = SVC(kernel=kernel, C=best_C, random_state=random_state)\n",
    "    model.fit(X_train, y_train)\n",
    "    ### END CODE ###\n",
    "    return model, best_C"
   ]
  },
  {
   "cell_type": "markdown",
   "metadata": {
    "id": "IZ_MU9Fl6EIn"
   },
   "source": [
    "b. (3 points) Run the function you implemented above to train SVMs with the search space of $C$ being [$0.1, 1, 10, 100$], random state set to 42, with the following three popular kernels: (i) linear (ii) polynomial (iii) RBF (Gaussian). Evaluate your final models on the test set and report their accuracies."
   ]
  },
  {
   "cell_type": "code",
   "execution_count": 9,
   "metadata": {
    "colab": {
     "base_uri": "https://localhost:8080/"
    },
    "id": "9qucC2PdjJ4V",
    "outputId": "06cd941e-4782-43b1-bd29-a31445025785"
   },
   "outputs": [
    {
     "name": "stdout",
     "output_type": "stream",
     "text": [
      "\n",
      "Training linear SVM:\n",
      "C: 0.100     Avg Cross Val Score: 0.921\n",
      "C: 1.000     Avg Cross Val Score: 0.926\n",
      "C: 10.000     Avg Cross Val Score: 0.928\n",
      "C: 100.000     Avg Cross Val Score: 0.927\n",
      "Best C: 10\n",
      "\n",
      "Training poly SVM:\n",
      "C: 0.100     Avg Cross Val Score: 0.689\n",
      "C: 1.000     Avg Cross Val Score: 0.759\n",
      "C: 10.000     Avg Cross Val Score: 0.843\n",
      "C: 100.000     Avg Cross Val Score: 0.896\n",
      "Best C: 100\n",
      "\n",
      "Training rbf SVM:\n",
      "C: 0.100     Avg Cross Val Score: 0.896\n",
      "C: 1.000     Avg Cross Val Score: 0.924\n",
      "C: 10.000     Avg Cross Val Score: 0.924\n",
      "C: 100.000     Avg Cross Val Score: 0.912\n",
      "Best C: 10\n",
      "\n",
      "\n",
      "Test accuracy with linear kernel and best C=10: 0.928\n",
      "Test accuracy with poly kernel and best C=100: 0.913\n",
      "Test accuracy with rbf kernel and best C=10: 0.935\n"
     ]
    }
   ],
   "source": [
    "# C search space\n",
    "C_search_space = [0.1, 1, 10, 100]\n",
    "\n",
    "# Kernel types\n",
    "kernels = ['linear', 'poly', 'rbf']\n",
    "\n",
    "# Initialize dictionaries to store the models and best C values\n",
    "svm_models = {}\n",
    "best_C_values = {}\n",
    "\n",
    "# Train SVMs with different kernels and find the best C for each\n",
    "for kernel in kernels:\n",
    "    print(f\"\\nTraining {kernel} SVM:\")\n",
    "    model, best_C = search_best_svm(kernel, C_search_space, seed)\n",
    "    svm_models[kernel] = model\n",
    "    best_C_values[kernel] = best_C\n",
    "\n",
    "# Evaluate and report accuracies of the final models on the test set\n",
    "print(f\"\\n\")\n",
    "for kernel in kernels:\n",
    "    model = svm_models[kernel]\n",
    "    test_accuracy = accuracy_score(y_test, model.predict(X_test))\n",
    "    print(f\"Test accuracy with {kernel} kernel and best C={best_C_values[kernel]}: {test_accuracy:.3f}\")"
   ]
  },
  {
   "cell_type": "markdown",
   "metadata": {
    "id": "pCxwqenL6nZ4"
   },
   "source": [
    "c. (2 points) Train a logistic regression model using the training set. Compare its performance with that of the SVMs trained above."
   ]
  },
  {
   "cell_type": "code",
   "execution_count": 10,
   "metadata": {
    "id": "Pt0ojbbkjJ4W",
    "outputId": "e16a84e0-4bd3-41c2-d591-319015dee8bd"
   },
   "outputs": [
    {
     "name": "stdout",
     "output_type": "stream",
     "text": [
      "Test accuracy for Logistic Regression: 0.9223\n",
      "\n",
      "Test accuracy for linear SVM: 0.9283 (Best C: 10)\n",
      "SVM with linear kernel outperforms Logistic Regression\n",
      "\n",
      "Test accuracy for poly SVM: 0.9125 (Best C: 100)\n",
      "Logistic Regression outperforms SVM with poly kernel\n",
      "\n",
      "Test accuracy for rbf SVM: 0.9354 (Best C: 10)\n",
      "SVM with rbf kernel outperforms Logistic Regression\n",
      "\n"
     ]
    }
   ],
   "source": [
    "# Train logistic regression model\n",
    "logreg = LogisticRegression(random_state=seed, max_iter=10000)\n",
    "logreg.fit(X_train, y_train)\n",
    "\n",
    "# Evaluate the model on the test set\n",
    "logreg_test_accuracy = accuracy_score(y_test, logreg.predict(X_test))\n",
    "print(f\"Test accuracy for Logistic Regression: {logreg_test_accuracy:.4f}\\n\")\n",
    "\n",
    "# Compare with SVM models\n",
    "for kernel in kernels:\n",
    "    svm_test_accuracy = accuracy_score(y_test, svm_models[kernel].predict(X_test))\n",
    "    print(f\"Test accuracy for {kernel} SVM: {svm_test_accuracy:.4f} (Best C: {best_C_values[kernel]})\")\n",
    "\n",
    "    # Compare the results\n",
    "    if svm_test_accuracy > logreg_test_accuracy:\n",
    "        print(f\"SVM with {kernel} kernel outperforms Logistic Regression\\n\")\n",
    "    elif svm_test_accuracy < logreg_test_accuracy:\n",
    "        print(f\"Logistic Regression outperforms SVM with {kernel} kernel\\n\")\n",
    "    else:\n",
    "        print(f\"SVM with {kernel} kernel and Logistic Regression have the same accuracy\\n\")"
   ]
  },
  {
   "cell_type": "markdown",
   "metadata": {
    "id": "iVgBWtheoudc"
   },
   "source": [
    "> **Support Vector Machines (SVMs) potentially exhibit superior performance over Logistic Regression in various scenarios.** This can be attributed to SVMs' capacity to manage non-linear data correlations by incorporating non-linear kernels. Their resilience to outliers also plays a crucial role, enabling SVMs to better generalize across intricate datasets, unlike the linear decision boundary defined by Logistic Regression. The enhancement in performance is further bolstered by the opportunities for fine-tuning SVM parameters and employing the kernel trick, which offers a versatile approach to discerning complex patterns in the data."
   ]
  },
  {
   "cell_type": "markdown",
   "metadata": {
    "id": "bc9ca1b5"
   },
   "source": [
    "# Question 2 : Ensemble Methods for Classification (25 pts)\n",
    "\n",
    "In this question, we will compare the performances of different ensemble methods for classification problems: [Bagging](https://scikit-learn.org/stable/modules/generated/sklearn.ensemble.BaggingClassifier.html), [AdaBoost](https://scikit-learn.org/stable/modules/generated/sklearn.ensemble.AdaBoostClassifier.html), [Random Forest](https://scikit-learn.org/stable/modules/generated/sklearn.ensemble.RandomForestClassifier.html) and [XGBoost](https://xgboost.readthedocs.io/en/stable/python/python_api.html) classifiers.\n",
    "\n",
    "We will look at the [GiveMeSomeCredit](https://www.kaggle.com/c/GiveMeSomeCredit) dataset for this question. The dataset is extremely large so for this question we will only consider a subset which has been provided along with the notebook for this assignment. The dataset has already been split into train and test sets.\n",
    "\n",
    "The task is to predict the probability that someone will experience financial distress in the next two years."
   ]
  },
  {
   "cell_type": "code",
   "execution_count": 11,
   "metadata": {
    "id": "a93b913f"
   },
   "outputs": [],
   "source": [
    "# Only use this code block if you are using Google Colab.\n",
    "# If you are using Jupyter Notebook, please ignore this code block. You can directly upload the file to your Jupyter Notebook file systems.\n",
    "from google.colab import files\n",
    "\n",
    "## It will prompt you to select a local file. Click on “Choose Files” then select and upload the file.\n",
    "## Wait for the file to be 100% uploaded. You should see the name of the file once Colab has uploaded it.\n",
    "uploaded = files.upload()"
   ]
  },
  {
   "cell_type": "code",
   "execution_count": 12,
   "metadata": {
    "id": "1a2bac93",
    "outputId": "5961e9b7-e4c0-4613-e447-10d7821d2402"
   },
   "outputs": [
    {
     "data": {
      "text/html": [
       "<div>\n",
       "<style scoped>\n",
       "    .dataframe tbody tr th:only-of-type {\n",
       "        vertical-align: middle;\n",
       "    }\n",
       "\n",
       "    .dataframe tbody tr th {\n",
       "        vertical-align: top;\n",
       "    }\n",
       "\n",
       "    .dataframe thead th {\n",
       "        text-align: right;\n",
       "    }\n",
       "</style>\n",
       "<table border=\"1\" class=\"dataframe\">\n",
       "  <thead>\n",
       "    <tr style=\"text-align: right;\">\n",
       "      <th></th>\n",
       "      <th>SeriousDlqin2yrs</th>\n",
       "      <th>RevolvingUtilizationOfUnsecuredLines</th>\n",
       "      <th>age</th>\n",
       "      <th>NumberOfTime30-59DaysPastDueNotWorse</th>\n",
       "      <th>DebtRatio</th>\n",
       "      <th>MonthlyIncome</th>\n",
       "      <th>NumberOfOpenCreditLinesAndLoans</th>\n",
       "      <th>NumberOfTimes90DaysLate</th>\n",
       "      <th>NumberRealEstateLoansOrLines</th>\n",
       "      <th>NumberOfTime60-89DaysPastDueNotWorse</th>\n",
       "      <th>NumberOfDependents</th>\n",
       "    </tr>\n",
       "  </thead>\n",
       "  <tbody>\n",
       "    <tr>\n",
       "      <th>0</th>\n",
       "      <td>0</td>\n",
       "      <td>0.571373</td>\n",
       "      <td>66</td>\n",
       "      <td>0</td>\n",
       "      <td>0.430620</td>\n",
       "      <td>9274.0</td>\n",
       "      <td>10</td>\n",
       "      <td>0</td>\n",
       "      <td>1</td>\n",
       "      <td>0</td>\n",
       "      <td>0.0</td>\n",
       "    </tr>\n",
       "    <tr>\n",
       "      <th>1</th>\n",
       "      <td>0</td>\n",
       "      <td>0.233999</td>\n",
       "      <td>56</td>\n",
       "      <td>0</td>\n",
       "      <td>0.257380</td>\n",
       "      <td>5656.0</td>\n",
       "      <td>12</td>\n",
       "      <td>0</td>\n",
       "      <td>0</td>\n",
       "      <td>0</td>\n",
       "      <td>0.0</td>\n",
       "    </tr>\n",
       "    <tr>\n",
       "      <th>2</th>\n",
       "      <td>0</td>\n",
       "      <td>0.299270</td>\n",
       "      <td>33</td>\n",
       "      <td>0</td>\n",
       "      <td>0.114575</td>\n",
       "      <td>4747.0</td>\n",
       "      <td>8</td>\n",
       "      <td>0</td>\n",
       "      <td>0</td>\n",
       "      <td>0</td>\n",
       "      <td>3.0</td>\n",
       "    </tr>\n",
       "    <tr>\n",
       "      <th>3</th>\n",
       "      <td>0</td>\n",
       "      <td>0.032165</td>\n",
       "      <td>41</td>\n",
       "      <td>0</td>\n",
       "      <td>0.308326</td>\n",
       "      <td>8490.0</td>\n",
       "      <td>8</td>\n",
       "      <td>0</td>\n",
       "      <td>1</td>\n",
       "      <td>0</td>\n",
       "      <td>0.0</td>\n",
       "    </tr>\n",
       "    <tr>\n",
       "      <th>4</th>\n",
       "      <td>0</td>\n",
       "      <td>0.050591</td>\n",
       "      <td>36</td>\n",
       "      <td>0</td>\n",
       "      <td>0.862627</td>\n",
       "      <td>3333.0</td>\n",
       "      <td>8</td>\n",
       "      <td>0</td>\n",
       "      <td>2</td>\n",
       "      <td>0</td>\n",
       "      <td>0.0</td>\n",
       "    </tr>\n",
       "  </tbody>\n",
       "</table>\n",
       "</div>"
      ],
      "text/plain": [
       "   SeriousDlqin2yrs  RevolvingUtilizationOfUnsecuredLines  age  \\\n",
       "0                 0                              0.571373   66   \n",
       "1                 0                              0.233999   56   \n",
       "2                 0                              0.299270   33   \n",
       "3                 0                              0.032165   41   \n",
       "4                 0                              0.050591   36   \n",
       "\n",
       "   NumberOfTime30-59DaysPastDueNotWorse  DebtRatio  MonthlyIncome  \\\n",
       "0                                     0   0.430620         9274.0   \n",
       "1                                     0   0.257380         5656.0   \n",
       "2                                     0   0.114575         4747.0   \n",
       "3                                     0   0.308326         8490.0   \n",
       "4                                     0   0.862627         3333.0   \n",
       "\n",
       "   NumberOfOpenCreditLinesAndLoans  NumberOfTimes90DaysLate  \\\n",
       "0                               10                        0   \n",
       "1                               12                        0   \n",
       "2                                8                        0   \n",
       "3                                8                        0   \n",
       "4                                8                        0   \n",
       "\n",
       "   NumberRealEstateLoansOrLines  NumberOfTime60-89DaysPastDueNotWorse  \\\n",
       "0                             1                                     0   \n",
       "1                             0                                     0   \n",
       "2                             0                                     0   \n",
       "3                             1                                     0   \n",
       "4                             2                                     0   \n",
       "\n",
       "   NumberOfDependents  \n",
       "0                 0.0  \n",
       "1                 0.0  \n",
       "2                 3.0  \n",
       "3                 0.0  \n",
       "4                 0.0  "
      ]
     },
     "execution_count": 12,
     "metadata": {},
     "output_type": "execute_result"
    }
   ],
   "source": [
    "import pandas as pd\n",
    "\n",
    "data = pd.read_csv('hw5_data.csv')\n",
    "data.drop(data.columns[data.columns.str.contains('unnamed',case = False)],axis = 1, inplace = True)\n",
    "data.head()"
   ]
  },
  {
   "cell_type": "code",
   "execution_count": 13,
   "metadata": {
    "id": "fb34060d",
    "outputId": "12b5d678-a0b3-424c-9c2e-cda67e03e236"
   },
   "outputs": [
    {
     "name": "stdout",
     "output_type": "stream",
     "text": [
      "train: (3750, 10) (3750,)\n",
      "test: (1250, 10) (1250,)\n"
     ]
    }
   ],
   "source": [
    "from sklearn.model_selection import train_test_split\n",
    "y = data['SeriousDlqin2yrs']\n",
    "X = data.drop(['SeriousDlqin2yrs'],axis=1)\n",
    "X_train, X_test, y_train, y_test = train_test_split(X, y, test_size = 0.25, random_state = 7)\n",
    "\n",
    "print('train:',X_train.shape, y_train.shape)\n",
    "print('test:',X_test.shape, y_test.shape)"
   ]
  },
  {
   "cell_type": "code",
   "execution_count": 14,
   "metadata": {
    "id": "90d16082"
   },
   "outputs": [],
   "source": [
    "import matplotlib.pyplot as plt\n",
    "from sklearn.model_selection import (train_test_split,GridSearchCV)\n",
    "from sklearn.metrics import (accuracy_score,roc_auc_score)\n",
    "from sklearn.ensemble import (RandomForestClassifier,GradientBoostingClassifier,AdaBoostClassifier)\n",
    "from sklearn.ensemble import RandomForestClassifier, BaggingClassifier\n",
    "from sklearn.metrics import confusion_matrix\n",
    "from sklearn.tree import DecisionTreeClassifier\n",
    "from time import time\n",
    "import xgboost\n",
    "import warnings\n",
    "warnings.filterwarnings(\"ignore\")\n",
    "%matplotlib inline"
   ]
  },
  {
   "cell_type": "code",
   "execution_count": 15,
   "metadata": {
    "id": "420aeb16"
   },
   "outputs": [],
   "source": [
    "columns_list = list(X.columns)"
   ]
  },
  {
   "cell_type": "markdown",
   "metadata": {
    "id": "f40f9107"
   },
   "source": [
    "a. (2.5 pts) Fit a Decision Tree Classifier with random_state = 14 for this classification problem. Report the accuracy_score and roc_auc_score on the test set."
   ]
  },
  {
   "cell_type": "code",
   "execution_count": 16,
   "metadata": {
    "id": "45de59e6"
   },
   "outputs": [],
   "source": [
    "def fit_classifier(clf):\n",
    "    # Fit the classifier on the training set\n",
    "    ### START CODE ###\n",
    "    clf.fit(X_train, y_train)\n",
    "    ### END CODE ###\n",
    "    return clf"
   ]
  },
  {
   "cell_type": "code",
   "execution_count": 17,
   "metadata": {
    "id": "yZfiYRKtHJQ4"
   },
   "outputs": [],
   "source": [
    "def evaluate_classifier(clf, X_test, y_test):\n",
    "  # Compute the accuracy_score, and roc_auc_score on the test set\n",
    "  ### START CODE ###\n",
    "  y_pred = clf.predict(X_test)\n",
    "  y_pred_proba = clf.predict_proba(X_test)[:, 1]\n",
    "\n",
    "  acc_score = accuracy_score(y_test, y_pred)\n",
    "  auc_score = roc_auc_score(y_test, y_pred_proba)\n",
    "  ### END CODE ###\n",
    "  print(\"Accuracy_score: {}, ROC_AUC_score: {}\".format(acc_score, auc_score))"
   ]
  },
  {
   "cell_type": "code",
   "execution_count": 18,
   "metadata": {
    "id": "9a436542",
    "outputId": "58468273-95a0-4587-e133-1bf15dccb017"
   },
   "outputs": [
    {
     "name": "stdout",
     "output_type": "stream",
     "text": [
      "Decision Tree\n",
      "Accuracy_score: 0.888, ROC_AUC_score: 0.5854582176218127\n"
     ]
    }
   ],
   "source": [
    "print(\"Decision Tree\")\n",
    "# Initialize your decision tree classifier\n",
    "### START CODE ###\n",
    "dt_clf = DecisionTreeClassifier(random_state=14)\n",
    "### END CODE ###\n",
    "\n",
    "dt_clf = fit_classifier(dt_clf)\n",
    "evaluate_classifier(dt_clf, X_test, y_test)"
   ]
  },
  {
   "cell_type": "markdown",
   "metadata": {
    "id": "6d360a99"
   },
   "source": [
    "b. (2.5 pts) Create a [Bagging](https://scikit-learn.org/stable/modules/generated/sklearn.ensemble.BaggingClassifier.html) of 25 classifiers (i.e, n_estimators=25) with random_state=14. Please use Decision Tree Classifier with random_state=14 as the base classifier. Report accuracy_score and roc_auc_score on the test data for this emsemble classifier."
   ]
  },
  {
   "cell_type": "code",
   "execution_count": 19,
   "metadata": {
    "id": "239c9c3c",
    "outputId": "4e4cd33d-10ed-4cc8-b006-464c3a52965e"
   },
   "outputs": [
    {
     "name": "stdout",
     "output_type": "stream",
     "text": [
      "Bagging of Decesion Trees\n",
      "Accuracy_score: 0.9256, ROC_AUC_score: 0.7857106791214341\n"
     ]
    }
   ],
   "source": [
    "print(\"Bagging of Decesion Trees\")\n",
    "# Initialize your bagging classifier\n",
    "### START CODE ###\n",
    "bag_clf = BaggingClassifier(base_estimator=dt_clf, n_estimators=25, random_state=14)\n",
    "### END CODE ###\n",
    "\n",
    "bag_clf = fit_classifier(bag_clf)\n",
    "evaluate_classifier(bag_clf, X_test, y_test)"
   ]
  },
  {
   "cell_type": "markdown",
   "metadata": {
    "id": "34225ee3"
   },
   "source": [
    "c. (5 pts) In this question, you will fit a [Random Forest](http://scikit-learn.org/stable/modules/generated/sklearn.ensemble.RandomForestClassifier.html) model on the training data for this classification task.\n",
    "\n",
    "1. First, please find the best parameters (including *n_estimators*, *max_features* and *criterion*) using [GridSearchCV](http://scikit-learn.org/stable/modules/generated/sklearn.model_selection.GridSearchCV.html). Report the optimal parameters obtained by GridSearch.\n",
    "2. Fit a model using the best parameters, and report the [confusion matrix](https://scikit-learn.org/stable/modules/generated/sklearn.metrics.confusion_matrix.html) and [roc_auc_score](http://scikit-learn.org/stable/modules/generated/sklearn.metrics.roc_auc_score.html#sklearn.metrics.roc_auc_score) on test data."
   ]
  },
  {
   "cell_type": "code",
   "execution_count": 20,
   "metadata": {
    "id": "R9E7sMGt2goM"
   },
   "outputs": [],
   "source": [
    "def grid_search_for_classifier(clf, param_grid, X_train, y_train):\n",
    "  # Grid search\n",
    "    grid_search = GridSearchCV(clf, param_grid=param_grid)\n",
    "\n",
    "  # Conduct grid search using the training set (1 line of code only)\n",
    "  ### START CODE ###\n",
    "    grid_search.fit(X_train, y_train)\n",
    "  ### END CODE ###\n",
    "    print(grid_search.best_params_)\n",
    "\n",
    "  # Set the best paramters for your clf (1 line of code only)\n",
    "  ### START CODE ###\n",
    "    clf.set_params(**grid_search.best_params_)\n",
    "  ### END CODE ###\n",
    "    return clf"
   ]
  },
  {
   "cell_type": "code",
   "execution_count": 21,
   "metadata": {
    "id": "4UyA2_rB2gG9"
   },
   "outputs": [],
   "source": [
    "def train_and_evaluate_classifier(clf, X_train, y_train, X_test, y_test):\n",
    "    t0 = time()\n",
    "  # Fit your classifier on the training set\n",
    "  ### START CODE ###\n",
    "    clf.fit(X_train, y_train)\n",
    "  ### END CODE ###\n",
    "    print(\"training time\", round(time()-t0, 3), \"s\")\n",
    "\n",
    "    t0 = time()\n",
    "    y_pred = clf.predict(X_test)\n",
    "    print(\"predict time\", round(time()-t0, 3), \"s\")\n",
    "\n",
    "    print(\"Confusion matrix: \")\n",
    "  # Print the confusion matrix computed from the test set (1 line of code only)\n",
    "  ### START CODE ###\n",
    "    print(confusion_matrix(y_test, y_pred))\n",
    "  ### END CODE ###\n",
    "\n",
    "\n",
    "  ### START CODE ###\n",
    "    y_pred_proba = clf.predict_proba(X_test)[:, 1]\n",
    "    acc_score = accuracy_score(y_test, y_pred)\n",
    "    auc_score = roc_auc_score(y_test, y_pred_proba)\n",
    "  ### END CODE ###\n",
    "\n",
    "    print(\"Accuracy: {}, AUC_ROC: {}\".format(acc_score, auc_score))\n",
    "    return clf"
   ]
  },
  {
   "cell_type": "code",
   "execution_count": 22,
   "metadata": {
    "id": "6bfb9542",
    "outputId": "2b94e5d7-d6ea-4705-b5d4-e6b960c2ebfc"
   },
   "outputs": [
    {
     "name": "stdout",
     "output_type": "stream",
     "text": [
      "{'criterion': 'entropy', 'max_features': 1, 'n_estimators': 100, 'random_state': 17}\n",
      "training time 0.432 s\n",
      "predict time 0.016 s\n",
      "Confusion matrix: \n",
      "[[1162    3]\n",
      " [  82    3]]\n",
      "Accuracy: 0.932, AUC_ROC: 0.8375612219136582\n"
     ]
    },
    {
     "data": {
      "text/html": [
       "<style>#sk-container-id-1 {color: black;}#sk-container-id-1 pre{padding: 0;}#sk-container-id-1 div.sk-toggleable {background-color: white;}#sk-container-id-1 label.sk-toggleable__label {cursor: pointer;display: block;width: 100%;margin-bottom: 0;padding: 0.3em;box-sizing: border-box;text-align: center;}#sk-container-id-1 label.sk-toggleable__label-arrow:before {content: \"▸\";float: left;margin-right: 0.25em;color: #696969;}#sk-container-id-1 label.sk-toggleable__label-arrow:hover:before {color: black;}#sk-container-id-1 div.sk-estimator:hover label.sk-toggleable__label-arrow:before {color: black;}#sk-container-id-1 div.sk-toggleable__content {max-height: 0;max-width: 0;overflow: hidden;text-align: left;background-color: #f0f8ff;}#sk-container-id-1 div.sk-toggleable__content pre {margin: 0.2em;color: black;border-radius: 0.25em;background-color: #f0f8ff;}#sk-container-id-1 input.sk-toggleable__control:checked~div.sk-toggleable__content {max-height: 200px;max-width: 100%;overflow: auto;}#sk-container-id-1 input.sk-toggleable__control:checked~label.sk-toggleable__label-arrow:before {content: \"▾\";}#sk-container-id-1 div.sk-estimator input.sk-toggleable__control:checked~label.sk-toggleable__label {background-color: #d4ebff;}#sk-container-id-1 div.sk-label input.sk-toggleable__control:checked~label.sk-toggleable__label {background-color: #d4ebff;}#sk-container-id-1 input.sk-hidden--visually {border: 0;clip: rect(1px 1px 1px 1px);clip: rect(1px, 1px, 1px, 1px);height: 1px;margin: -1px;overflow: hidden;padding: 0;position: absolute;width: 1px;}#sk-container-id-1 div.sk-estimator {font-family: monospace;background-color: #f0f8ff;border: 1px dotted black;border-radius: 0.25em;box-sizing: border-box;margin-bottom: 0.5em;}#sk-container-id-1 div.sk-estimator:hover {background-color: #d4ebff;}#sk-container-id-1 div.sk-parallel-item::after {content: \"\";width: 100%;border-bottom: 1px solid gray;flex-grow: 1;}#sk-container-id-1 div.sk-label:hover label.sk-toggleable__label {background-color: #d4ebff;}#sk-container-id-1 div.sk-serial::before {content: \"\";position: absolute;border-left: 1px solid gray;box-sizing: border-box;top: 0;bottom: 0;left: 50%;z-index: 0;}#sk-container-id-1 div.sk-serial {display: flex;flex-direction: column;align-items: center;background-color: white;padding-right: 0.2em;padding-left: 0.2em;position: relative;}#sk-container-id-1 div.sk-item {position: relative;z-index: 1;}#sk-container-id-1 div.sk-parallel {display: flex;align-items: stretch;justify-content: center;background-color: white;position: relative;}#sk-container-id-1 div.sk-item::before, #sk-container-id-1 div.sk-parallel-item::before {content: \"\";position: absolute;border-left: 1px solid gray;box-sizing: border-box;top: 0;bottom: 0;left: 50%;z-index: -1;}#sk-container-id-1 div.sk-parallel-item {display: flex;flex-direction: column;z-index: 1;position: relative;background-color: white;}#sk-container-id-1 div.sk-parallel-item:first-child::after {align-self: flex-end;width: 50%;}#sk-container-id-1 div.sk-parallel-item:last-child::after {align-self: flex-start;width: 50%;}#sk-container-id-1 div.sk-parallel-item:only-child::after {width: 0;}#sk-container-id-1 div.sk-dashed-wrapped {border: 1px dashed gray;margin: 0 0.4em 0.5em 0.4em;box-sizing: border-box;padding-bottom: 0.4em;background-color: white;}#sk-container-id-1 div.sk-label label {font-family: monospace;font-weight: bold;display: inline-block;line-height: 1.2em;}#sk-container-id-1 div.sk-label-container {text-align: center;}#sk-container-id-1 div.sk-container {/* jupyter's `normalize.less` sets `[hidden] { display: none; }` but bootstrap.min.css set `[hidden] { display: none !important; }` so we also need the `!important` here to be able to override the default hidden behavior on the sphinx rendered scikit-learn.org. See: https://github.com/scikit-learn/scikit-learn/issues/21755 */display: inline-block !important;position: relative;}#sk-container-id-1 div.sk-text-repr-fallback {display: none;}</style><div id=\"sk-container-id-1\" class=\"sk-top-container\"><div class=\"sk-text-repr-fallback\"><pre>RandomForestClassifier(criterion=&#x27;entropy&#x27;, max_features=1, random_state=17)</pre><b>In a Jupyter environment, please rerun this cell to show the HTML representation or trust the notebook. <br />On GitHub, the HTML representation is unable to render, please try loading this page with nbviewer.org.</b></div><div class=\"sk-container\" hidden><div class=\"sk-item\"><div class=\"sk-estimator sk-toggleable\"><input class=\"sk-toggleable__control sk-hidden--visually\" id=\"sk-estimator-id-1\" type=\"checkbox\" checked><label for=\"sk-estimator-id-1\" class=\"sk-toggleable__label sk-toggleable__label-arrow\">RandomForestClassifier</label><div class=\"sk-toggleable__content\"><pre>RandomForestClassifier(criterion=&#x27;entropy&#x27;, max_features=1, random_state=17)</pre></div></div></div></div></div>"
      ],
      "text/plain": [
       "RandomForestClassifier(criterion='entropy', max_features=1, random_state=17)"
      ]
     },
     "execution_count": 22,
     "metadata": {},
     "output_type": "execute_result"
    }
   ],
   "source": [
    "param_grid = {\"n_estimators\": [1, 10, 50, 100],\n",
    "              \"max_features\": [1, 5, 10, \"auto\"],\n",
    "              \"criterion\": ['gini','entropy'],\n",
    "              \"random_state\": [17]}\n",
    "\n",
    "# Initialize your random forest classifier\n",
    "### START CODE ###\n",
    "rf_clf = RandomForestClassifier()\n",
    "### END CODE ###\n",
    "rf_clf = grid_search_for_classifier(rf_clf, param_grid, X_train, y_train)\n",
    "train_and_evaluate_classifier(rf_clf, X_train, y_train, X_test, y_test)"
   ]
  },
  {
   "cell_type": "markdown",
   "metadata": {
    "id": "314c313b"
   },
   "source": [
    "d. (10 pts) This time, let us use [AdaBoost](http://scikit-learn.org/stable/modules/generated/sklearn.ensemble.AdaBoostClassifier.html#sklearn.ensemble.AdaBoostClassifier) and [XGBoost](https://xgboost.readthedocs.io/en/stable/python/python_api.html) for the same task. For AdaBoost and XGBoost, please respectively find the best parameters (including *n_estimators, learning_rate*); fit your model using the best parameters, and report the confusion matrix and roc_auc_score on test data."
   ]
  },
  {
   "cell_type": "code",
   "execution_count": 23,
   "metadata": {
    "id": "3222ef25"
   },
   "outputs": [],
   "source": [
    "param_grid = {\"n_estimators\": [10, 100],\n",
    "          \"learning_rate\": [0.01, 0.1, 0.5],\n",
    "          \"random_state\": [17]\n",
    "          }"
   ]
  },
  {
   "cell_type": "code",
   "execution_count": 24,
   "metadata": {
    "id": "bp4Ekjpy1cGw",
    "outputId": "3cc89d08-01cd-496b-f6b3-10b5854eaa04"
   },
   "outputs": [
    {
     "name": "stdout",
     "output_type": "stream",
     "text": [
      "{'learning_rate': 0.1, 'n_estimators': 100, 'random_state': 17}\n",
      "training time 0.442 s\n",
      "predict time 0.016 s\n",
      "Confusion matrix: \n",
      "[[1153   12]\n",
      " [  72   13]]\n",
      "Accuracy: 0.9328, AUC_ROC: 0.8390254986114618\n"
     ]
    },
    {
     "data": {
      "text/html": [
       "<style>#sk-container-id-2 {color: black;}#sk-container-id-2 pre{padding: 0;}#sk-container-id-2 div.sk-toggleable {background-color: white;}#sk-container-id-2 label.sk-toggleable__label {cursor: pointer;display: block;width: 100%;margin-bottom: 0;padding: 0.3em;box-sizing: border-box;text-align: center;}#sk-container-id-2 label.sk-toggleable__label-arrow:before {content: \"▸\";float: left;margin-right: 0.25em;color: #696969;}#sk-container-id-2 label.sk-toggleable__label-arrow:hover:before {color: black;}#sk-container-id-2 div.sk-estimator:hover label.sk-toggleable__label-arrow:before {color: black;}#sk-container-id-2 div.sk-toggleable__content {max-height: 0;max-width: 0;overflow: hidden;text-align: left;background-color: #f0f8ff;}#sk-container-id-2 div.sk-toggleable__content pre {margin: 0.2em;color: black;border-radius: 0.25em;background-color: #f0f8ff;}#sk-container-id-2 input.sk-toggleable__control:checked~div.sk-toggleable__content {max-height: 200px;max-width: 100%;overflow: auto;}#sk-container-id-2 input.sk-toggleable__control:checked~label.sk-toggleable__label-arrow:before {content: \"▾\";}#sk-container-id-2 div.sk-estimator input.sk-toggleable__control:checked~label.sk-toggleable__label {background-color: #d4ebff;}#sk-container-id-2 div.sk-label input.sk-toggleable__control:checked~label.sk-toggleable__label {background-color: #d4ebff;}#sk-container-id-2 input.sk-hidden--visually {border: 0;clip: rect(1px 1px 1px 1px);clip: rect(1px, 1px, 1px, 1px);height: 1px;margin: -1px;overflow: hidden;padding: 0;position: absolute;width: 1px;}#sk-container-id-2 div.sk-estimator {font-family: monospace;background-color: #f0f8ff;border: 1px dotted black;border-radius: 0.25em;box-sizing: border-box;margin-bottom: 0.5em;}#sk-container-id-2 div.sk-estimator:hover {background-color: #d4ebff;}#sk-container-id-2 div.sk-parallel-item::after {content: \"\";width: 100%;border-bottom: 1px solid gray;flex-grow: 1;}#sk-container-id-2 div.sk-label:hover label.sk-toggleable__label {background-color: #d4ebff;}#sk-container-id-2 div.sk-serial::before {content: \"\";position: absolute;border-left: 1px solid gray;box-sizing: border-box;top: 0;bottom: 0;left: 50%;z-index: 0;}#sk-container-id-2 div.sk-serial {display: flex;flex-direction: column;align-items: center;background-color: white;padding-right: 0.2em;padding-left: 0.2em;position: relative;}#sk-container-id-2 div.sk-item {position: relative;z-index: 1;}#sk-container-id-2 div.sk-parallel {display: flex;align-items: stretch;justify-content: center;background-color: white;position: relative;}#sk-container-id-2 div.sk-item::before, #sk-container-id-2 div.sk-parallel-item::before {content: \"\";position: absolute;border-left: 1px solid gray;box-sizing: border-box;top: 0;bottom: 0;left: 50%;z-index: -1;}#sk-container-id-2 div.sk-parallel-item {display: flex;flex-direction: column;z-index: 1;position: relative;background-color: white;}#sk-container-id-2 div.sk-parallel-item:first-child::after {align-self: flex-end;width: 50%;}#sk-container-id-2 div.sk-parallel-item:last-child::after {align-self: flex-start;width: 50%;}#sk-container-id-2 div.sk-parallel-item:only-child::after {width: 0;}#sk-container-id-2 div.sk-dashed-wrapped {border: 1px dashed gray;margin: 0 0.4em 0.5em 0.4em;box-sizing: border-box;padding-bottom: 0.4em;background-color: white;}#sk-container-id-2 div.sk-label label {font-family: monospace;font-weight: bold;display: inline-block;line-height: 1.2em;}#sk-container-id-2 div.sk-label-container {text-align: center;}#sk-container-id-2 div.sk-container {/* jupyter's `normalize.less` sets `[hidden] { display: none; }` but bootstrap.min.css set `[hidden] { display: none !important; }` so we also need the `!important` here to be able to override the default hidden behavior on the sphinx rendered scikit-learn.org. See: https://github.com/scikit-learn/scikit-learn/issues/21755 */display: inline-block !important;position: relative;}#sk-container-id-2 div.sk-text-repr-fallback {display: none;}</style><div id=\"sk-container-id-2\" class=\"sk-top-container\"><div class=\"sk-text-repr-fallback\"><pre>AdaBoostClassifier(learning_rate=0.1, n_estimators=100, random_state=17)</pre><b>In a Jupyter environment, please rerun this cell to show the HTML representation or trust the notebook. <br />On GitHub, the HTML representation is unable to render, please try loading this page with nbviewer.org.</b></div><div class=\"sk-container\" hidden><div class=\"sk-item\"><div class=\"sk-estimator sk-toggleable\"><input class=\"sk-toggleable__control sk-hidden--visually\" id=\"sk-estimator-id-2\" type=\"checkbox\" checked><label for=\"sk-estimator-id-2\" class=\"sk-toggleable__label sk-toggleable__label-arrow\">AdaBoostClassifier</label><div class=\"sk-toggleable__content\"><pre>AdaBoostClassifier(learning_rate=0.1, n_estimators=100, random_state=17)</pre></div></div></div></div></div>"
      ],
      "text/plain": [
       "AdaBoostClassifier(learning_rate=0.1, n_estimators=100, random_state=17)"
      ]
     },
     "execution_count": 24,
     "metadata": {},
     "output_type": "execute_result"
    }
   ],
   "source": [
    "# Initialize your AdaBoost classifier\n",
    "### START CODE ###\n",
    "ab_clf = AdaBoostClassifier()\n",
    "### END CODE ###\n",
    "ab_clf = grid_search_for_classifier(ab_clf, param_grid, X_train, y_train)\n",
    "train_and_evaluate_classifier(ab_clf, X_train, y_train, X_test, y_test)"
   ]
  },
  {
   "cell_type": "code",
   "execution_count": 25,
   "metadata": {
    "id": "Hv0p1mZh2CqA",
    "outputId": "b28ae150-fe25-471a-8ebe-4ed012f3232d"
   },
   "outputs": [
    {
     "name": "stdout",
     "output_type": "stream",
     "text": [
      "{'learning_rate': 0.01, 'n_estimators': 100, 'random_state': 17}\n",
      "training time 0.094 s\n",
      "predict time 0.0 s\n",
      "Confusion matrix: \n",
      "[[1163    2]\n",
      " [  84    1]]\n",
      "Accuracy: 0.9312, AUC_ROC: 0.8267962635698057\n"
     ]
    },
    {
     "data": {
      "text/html": [
       "<style>#sk-container-id-3 {color: black;}#sk-container-id-3 pre{padding: 0;}#sk-container-id-3 div.sk-toggleable {background-color: white;}#sk-container-id-3 label.sk-toggleable__label {cursor: pointer;display: block;width: 100%;margin-bottom: 0;padding: 0.3em;box-sizing: border-box;text-align: center;}#sk-container-id-3 label.sk-toggleable__label-arrow:before {content: \"▸\";float: left;margin-right: 0.25em;color: #696969;}#sk-container-id-3 label.sk-toggleable__label-arrow:hover:before {color: black;}#sk-container-id-3 div.sk-estimator:hover label.sk-toggleable__label-arrow:before {color: black;}#sk-container-id-3 div.sk-toggleable__content {max-height: 0;max-width: 0;overflow: hidden;text-align: left;background-color: #f0f8ff;}#sk-container-id-3 div.sk-toggleable__content pre {margin: 0.2em;color: black;border-radius: 0.25em;background-color: #f0f8ff;}#sk-container-id-3 input.sk-toggleable__control:checked~div.sk-toggleable__content {max-height: 200px;max-width: 100%;overflow: auto;}#sk-container-id-3 input.sk-toggleable__control:checked~label.sk-toggleable__label-arrow:before {content: \"▾\";}#sk-container-id-3 div.sk-estimator input.sk-toggleable__control:checked~label.sk-toggleable__label {background-color: #d4ebff;}#sk-container-id-3 div.sk-label input.sk-toggleable__control:checked~label.sk-toggleable__label {background-color: #d4ebff;}#sk-container-id-3 input.sk-hidden--visually {border: 0;clip: rect(1px 1px 1px 1px);clip: rect(1px, 1px, 1px, 1px);height: 1px;margin: -1px;overflow: hidden;padding: 0;position: absolute;width: 1px;}#sk-container-id-3 div.sk-estimator {font-family: monospace;background-color: #f0f8ff;border: 1px dotted black;border-radius: 0.25em;box-sizing: border-box;margin-bottom: 0.5em;}#sk-container-id-3 div.sk-estimator:hover {background-color: #d4ebff;}#sk-container-id-3 div.sk-parallel-item::after {content: \"\";width: 100%;border-bottom: 1px solid gray;flex-grow: 1;}#sk-container-id-3 div.sk-label:hover label.sk-toggleable__label {background-color: #d4ebff;}#sk-container-id-3 div.sk-serial::before {content: \"\";position: absolute;border-left: 1px solid gray;box-sizing: border-box;top: 0;bottom: 0;left: 50%;z-index: 0;}#sk-container-id-3 div.sk-serial {display: flex;flex-direction: column;align-items: center;background-color: white;padding-right: 0.2em;padding-left: 0.2em;position: relative;}#sk-container-id-3 div.sk-item {position: relative;z-index: 1;}#sk-container-id-3 div.sk-parallel {display: flex;align-items: stretch;justify-content: center;background-color: white;position: relative;}#sk-container-id-3 div.sk-item::before, #sk-container-id-3 div.sk-parallel-item::before {content: \"\";position: absolute;border-left: 1px solid gray;box-sizing: border-box;top: 0;bottom: 0;left: 50%;z-index: -1;}#sk-container-id-3 div.sk-parallel-item {display: flex;flex-direction: column;z-index: 1;position: relative;background-color: white;}#sk-container-id-3 div.sk-parallel-item:first-child::after {align-self: flex-end;width: 50%;}#sk-container-id-3 div.sk-parallel-item:last-child::after {align-self: flex-start;width: 50%;}#sk-container-id-3 div.sk-parallel-item:only-child::after {width: 0;}#sk-container-id-3 div.sk-dashed-wrapped {border: 1px dashed gray;margin: 0 0.4em 0.5em 0.4em;box-sizing: border-box;padding-bottom: 0.4em;background-color: white;}#sk-container-id-3 div.sk-label label {font-family: monospace;font-weight: bold;display: inline-block;line-height: 1.2em;}#sk-container-id-3 div.sk-label-container {text-align: center;}#sk-container-id-3 div.sk-container {/* jupyter's `normalize.less` sets `[hidden] { display: none; }` but bootstrap.min.css set `[hidden] { display: none !important; }` so we also need the `!important` here to be able to override the default hidden behavior on the sphinx rendered scikit-learn.org. See: https://github.com/scikit-learn/scikit-learn/issues/21755 */display: inline-block !important;position: relative;}#sk-container-id-3 div.sk-text-repr-fallback {display: none;}</style><div id=\"sk-container-id-3\" class=\"sk-top-container\"><div class=\"sk-text-repr-fallback\"><pre>XGBClassifier(base_score=None, booster=None, callbacks=None,\n",
       "              colsample_bylevel=None, colsample_bynode=None,\n",
       "              colsample_bytree=None, device=None, early_stopping_rounds=None,\n",
       "              enable_categorical=False, eval_metric=None, feature_types=None,\n",
       "              gamma=None, grow_policy=None, importance_type=None,\n",
       "              interaction_constraints=None, learning_rate=0.01, max_bin=None,\n",
       "              max_cat_threshold=None, max_cat_to_onehot=None,\n",
       "              max_delta_step=None, max_depth=None, max_leaves=None,\n",
       "              min_child_weight=None, missing=nan, monotone_constraints=None,\n",
       "              multi_strategy=None, n_estimators=100, n_jobs=None,\n",
       "              num_parallel_tree=None, random_state=17, ...)</pre><b>In a Jupyter environment, please rerun this cell to show the HTML representation or trust the notebook. <br />On GitHub, the HTML representation is unable to render, please try loading this page with nbviewer.org.</b></div><div class=\"sk-container\" hidden><div class=\"sk-item\"><div class=\"sk-estimator sk-toggleable\"><input class=\"sk-toggleable__control sk-hidden--visually\" id=\"sk-estimator-id-3\" type=\"checkbox\" checked><label for=\"sk-estimator-id-3\" class=\"sk-toggleable__label sk-toggleable__label-arrow\">XGBClassifier</label><div class=\"sk-toggleable__content\"><pre>XGBClassifier(base_score=None, booster=None, callbacks=None,\n",
       "              colsample_bylevel=None, colsample_bynode=None,\n",
       "              colsample_bytree=None, device=None, early_stopping_rounds=None,\n",
       "              enable_categorical=False, eval_metric=None, feature_types=None,\n",
       "              gamma=None, grow_policy=None, importance_type=None,\n",
       "              interaction_constraints=None, learning_rate=0.01, max_bin=None,\n",
       "              max_cat_threshold=None, max_cat_to_onehot=None,\n",
       "              max_delta_step=None, max_depth=None, max_leaves=None,\n",
       "              min_child_weight=None, missing=nan, monotone_constraints=None,\n",
       "              multi_strategy=None, n_estimators=100, n_jobs=None,\n",
       "              num_parallel_tree=None, random_state=17, ...)</pre></div></div></div></div></div>"
      ],
      "text/plain": [
       "XGBClassifier(base_score=None, booster=None, callbacks=None,\n",
       "              colsample_bylevel=None, colsample_bynode=None,\n",
       "              colsample_bytree=None, device=None, early_stopping_rounds=None,\n",
       "              enable_categorical=False, eval_metric=None, feature_types=None,\n",
       "              gamma=None, grow_policy=None, importance_type=None,\n",
       "              interaction_constraints=None, learning_rate=0.01, max_bin=None,\n",
       "              max_cat_threshold=None, max_cat_to_onehot=None,\n",
       "              max_delta_step=None, max_depth=None, max_leaves=None,\n",
       "              min_child_weight=None, missing=nan, monotone_constraints=None,\n",
       "              multi_strategy=None, n_estimators=100, n_jobs=None,\n",
       "              num_parallel_tree=None, random_state=17, ...)"
      ]
     },
     "execution_count": 25,
     "metadata": {},
     "output_type": "execute_result"
    }
   ],
   "source": [
    "# Initialize your XGBoost classifier\n",
    "### START CODE ###\n",
    "from xgboost import XGBClassifier\n",
    "xgb_clf = XGBClassifier()\n",
    "### END CODE ###\n",
    "xgb_clf = grid_search_for_classifier(xgb_clf, param_grid, X_train, y_train)\n",
    "train_and_evaluate_classifier(xgb_clf, X_train, y_train, X_test, y_test)"
   ]
  },
  {
   "cell_type": "markdown",
   "metadata": {
    "id": "f6bc87cd"
   },
   "source": [
    "f. (5 pts) Compare the performance of decision tree from part a) with the ensemble methods. Briefly explain which of the three ensemble methods performed better and why?"
   ]
  },
  {
   "cell_type": "markdown",
   "metadata": {
    "id": "Rg_qEaYyjJ4a"
   },
   "source": [
    "| Method         | Accuracy Score | ROC AUC Score            |\n",
    "| -------------- | -------------- | ------------------------ |\n",
    "| Decision Tree  | 0.888          | 0.5854582176218127       |\n",
    "| Bagging  | 0.9256|0.7857106791214341   |\n",
    "| Random Forest  | 0.932       | 0.8375612219136582       |\n",
    "| Adaboost | 0.9328      |  0.8390254986114618   |\n",
    "|XGBoost | 0.9312 | 0.8267962635698057 |\n",
    "\n",
    ">We can clearly see that the Ensemble methods performed better than the Decision Trees, as they have consistently outperformed the Decision Tree in both accuracy and ROC AUC score.\n",
    "<br><br>\n",
    "Amongst the ensemble methods, Adaboost is performing the best here, with the highest accuracy and ROC, wheras Random Forest is the close second. The choice between AdaBoost and Random Forest might depend on the specific requirements of the task, the interpretability of the model, and considerations regarding computational efficiency.\n",
    "<br><br>\n",
    "In conclusion, we can say that when compared to the Decision Tree, all the ensemble methods demonstrate improved performance, with AdaBoost being the top performer in this particular evaluation.\n",
    "\n"
   ]
  },
  {
   "cell_type": "markdown",
   "metadata": {
    "id": "jZXTR1tM7yBp"
   },
   "source": [
    "# Q3: CatBoost (10 points)"
   ]
  },
  {
   "cell_type": "markdown",
   "metadata": {
    "id": "3zcExque_yso"
   },
   "source": [
    "In this question you will learn about a boosting algorithm known as **CatBoost**. Please go through the two videos specified below to get a better understanding of the CatBoost algorithm and answer the questions that follow.\n",
    "\n",
    "[Part-1](https://www.youtube.com/watch?v=KXOTSkPL2X4&ab_channel=StatQuestwithJoshStarmer)\n",
    "[Part - 2](https://www.youtube.com/watch?v=3Bg2XRFOTzg&t=242s&ab_channel=StatQuestwithJoshStarmer)\n",
    "\n",
    "\n",
    "\n",
    "a. **(5 points)** Briefly explain Ordered Target Encoding. What challenge does it try to address?\n",
    "\n",
    "b. **(5 points)** Briefly describe the main advantages and disadvantages of CatBoost as compared to XGBoost."
   ]
  },
  {
   "attachments": {
    "image-2.png": {
     "image/png": "[encoded data removed]"
    }
   },
   "cell_type": "markdown",
   "metadata": {
    "id": "93cq1BKSjJ4f"
   },
   "source": [
    "> a)\n",
    "<br>\n",
    "Ordered Target Encoding in CatBoost is a specialized technique for encoding categorical variables whihch acknowledges the sequential arrangement of rows in a dataset. This approach revolves around the concept of treating each data row as if it were fed into the algorithm sequentially, ensuring that the encoding process respects the chronological order of the data, processing each row in the order it appears and taking into account the information available up to that point. Instead of relying on an overarching mean, CatBoost introduces the use of a predefined prior or guess for encoding, a value often determined through domain knowledge or experimental insights. Furthermore, the encoding equation is streamlined for computational efficiency by simplifying it through the addition of 1 to the denominator.\n",
    "<br> The equation for calculatinf Catboost encoding is given by the formula :\n",
    "![image-2.png](attachment:image-2.png)\n",
    "The method itself is inherently sequential, leveraging information from all preceding rows when encoding the current row. Notably, the order of data is paramount in this encoding process, culminating in the designation of \"Ordered Target Encoding.\" Overall, this technique is a deliberate and effective strategy within CatBoost, ensuring that encoding decisions are made with a keen awareness of the historical context of the data.\n",
    "<br> <br>\n",
    "The challenge that Ordered Target Encoding in CatBoost addresses is the prevention of data leakage during the encoding process. By treating each row sequentially and incorporating information only from preceding rows, the method ensures that the encoding is based on historical data, preventing future information from influencing the encoding of the current row. This is particularly relevant when dealing with time-series or sequentially ordered data in machine learning tasks."
   ]
  },
  {
   "cell_type": "markdown",
   "metadata": {
    "id": "Aod23t-gjJ4f"
   },
   "source": [
    ">b)\n",
    "<br>CatBoost has distinct characteristics that set it apart from other Gradient Boosting methods, particularly in comparison to XGBoost.\n",
    "<br><br>**Advantages of CatBoost:**\n",
    "<br><br>\n",
    "-- CatBoost handles categorical variables efficiently without the need for explicit preprocessing, whereas XGBoost requires preprocessing of categorical variables, which can involve one-hot encoding or label encoding.\n",
    "<br><br>\n",
    "-- The Ordered Target Encoding approach prevents data leakage by treating data as if it arrives sequentially, which proves advantageous for time-series or sequentially ordered datasets, whereas XGBoost is prone to data leakage\n",
    "<br><br>\n",
    "-- Catboost uses symmetric decision trees, while intentionally weakening individual trees to obtain a consistent structure which facilitate faster predictions,  which increases the overall effectiveness of the ensemble. Whereas, XGBoost builds asymmetric trees and may require more computations during tree building, potentially impacting speed\n",
    "<br><br><br>\n",
    "**Disadvantages of CatBoost:**\n",
    "<br><br>\n",
    "-- The use of symmetric decision trees intentionally makes individual trees weaker. While this aligns with the ensemble learning philosophy, it may result in each tree being less powerful compared to those in other boosting methods like XGBoost.\n",
    "<br><br>\n",
    "-- The effectiveness of CatBoost is sensitive to the choice of hyperparameters, such as the learning rate. Fine-tuning these parameters might be crucial for achieving optimal performance, whereas XGBoost is generally robust to hyperparameter choices, and default parameters often yield good results.\n",
    "<br><br>\n",
    "-- While CatBoost is known for its out-of-the-box performance, its documentation might be considered less extensive than that of XGBoost. This could pose challenges for users who require detailed guidance or troubleshooting.\n"
   ]
  },
  {
   "cell_type": "markdown",
   "metadata": {
    "id": "FTFRT23o76A2"
   },
   "source": [
    "# Q4: Convolutional Neural Network (20 points)\n",
    "In this question, we will continue our exercise on the SVHN classification task from the previous homework, but this time we will be using Convolutional Neural Networks."
   ]
  },
  {
   "cell_type": "code",
   "execution_count": 26,
   "metadata": {
    "id": "lW0odgzmXUU_"
   },
   "outputs": [],
   "source": [
    "import numpy as np\n",
    "import random\n",
    "import os\n",
    "import torch\n",
    "import torch.nn as nn\n",
    "import torch.nn.functional as F\n",
    "from torch.utils.data import DataLoader\n",
    "import torchvision\n",
    "from sklearn.metrics import accuracy_score\n",
    "import matplotlib.pyplot as plt\n",
    "from tqdm import tqdm"
   ]
  },
  {
   "cell_type": "code",
   "execution_count": 27,
   "metadata": {
    "id": "Dr0KdJ2LrCCV"
   },
   "outputs": [],
   "source": [
    "seed = 42\n",
    "torch.manual_seed(seed)\n",
    "torch.cuda.manual_seed(seed)\n",
    "torch.backends.cudnn.deterministic = True\n",
    "torch.backends.cudnn.benchmark = False\n",
    "np.random.seed(seed)\n",
    "random.seed(seed)\n",
    "os.environ['PYTHONHASHSEED'] = str(seed)"
   ]
  },
  {
   "cell_type": "code",
   "execution_count": 28,
   "metadata": {
    "id": "oBCdEj-_0tkS",
    "outputId": "cf9f7fcf-642d-4229-dd85-9580276b9d4b"
   },
   "outputs": [
    {
     "name": "stdout",
     "output_type": "stream",
     "text": [
      "Using downloaded and verified file: .\\train_32x32.mat\n",
      "Using downloaded and verified file: .\\test_32x32.mat\n"
     ]
    }
   ],
   "source": [
    "transform=torchvision.transforms.Compose([\n",
    "        torchvision.transforms.ToTensor(),\n",
    "        torchvision.transforms.Normalize((0.4376821, 0.4437697, 0.47280442), (0.19803012, 0.20101562, 0.19703614))\n",
    "        ])\n",
    "\n",
    "train_dataset = torchvision.datasets.SVHN(root='.', split='train', transform=transform, download=True)\n",
    "test_dataset = torchvision.datasets.SVHN(root='.', split='test', transform=transform, download=True)"
   ]
  },
  {
   "cell_type": "code",
   "execution_count": 29,
   "metadata": {
    "id": "iLn4YKK90vjo"
   },
   "outputs": [],
   "source": [
    "train_num = int(len(train_dataset) * 0.8)\n",
    "val_num = len(train_dataset) - train_num\n",
    "# Randomly split the training dataset into training dataset and validation dataset\n",
    "train_dataset, val_dataset = torch.utils.data.random_split(train_dataset, [train_num, val_num])\n",
    "\n",
    "# Create data loaders\n",
    "train_loader = DataLoader(train_dataset, batch_size=256, shuffle=True)\n",
    "val_loader = DataLoader(val_dataset, batch_size=256, shuffle=False)\n",
    "test_loader = DataLoader(test_dataset, batch_size=256, shuffle=False)"
   ]
  },
  {
   "cell_type": "markdown",
   "metadata": {
    "id": "RFUXsbsqjoCw"
   },
   "source": [
    "a. (10 points) Build a convolutional neural network with the following sequential configuration. If not specified, please use the default setting of torch.nn.Conv2d. The output of the convolution layers will be fed into a fully-connected MLP. Then train the model with Adam optimizer (lr=1e-3) for 10 epochs. You should be able to achieve test accuracy of over 85%.\n",
    "\n",
    "\n",
    "\n",
    "> Layer 1\n",
    "*   2d convolution (# input channel=3, # output channel=16, kernel size=3, padding=1)\n",
    "*   2d batch normalization\n",
    "*   Relu activation\n",
    "\n",
    "> Pool 1\n",
    "*   2d max pooling (kernel size=2)\n",
    "\n",
    "> Layer 2\n",
    "*   2d convolution (# output channel=16, kernel size=3, padding=1)\n",
    "*   2d batch normalization\n",
    "*   Relu activation\n",
    "\n",
    "> Pool 2\n",
    "*   2d max pooling (kernel size=2)\n",
    "\n",
    "> Layer 3\n",
    "*   2d convolution (# output channel=32, kernel size=3, padding=1)\n",
    "*   2d batch normalization\n",
    "*   Relu activation\n",
    "\n",
    "> Pool 3\n",
    "*   2d max pooling (kernel size=2)\n",
    "\n",
    "References:\n",
    "\n",
    "*   https://pytorch.org/docs/stable/generated/torch.nn.Conv2d.html\n",
    "*   https://pytorch.org/docs/stable/generated/torch.nn.BatchNorm2d.html\n",
    "*   https://pytorch.org/docs/stable/generated/torch.nn.MaxPool2d.html\n",
    "*   https://pytorch.org/docs/stable/generated/torch.nn.Sequential.html\n",
    "\n",
    "\n",
    "\n",
    "\n"
   ]
  },
  {
   "cell_type": "code",
   "execution_count": 30,
   "metadata": {
    "id": "M8OcO88V01Rr"
   },
   "outputs": [],
   "source": [
    "class CNN(nn.Module):\n",
    "    def __init__(self, pool=True):\n",
    "        super(CNN, self).__init__()\n",
    "        self.pool = pool\n",
    "\n",
    "        # Create convolutional layers\n",
    "        ### START CODE ###\n",
    "        self.layer1 = nn.Sequential(\n",
    "            nn.Conv2d(in_channels=3, out_channels=16, kernel_size=3, padding=1),\n",
    "            nn.BatchNorm2d(16),\n",
    "            nn.ReLU()\n",
    "        )\n",
    "\n",
    "        self.pool1 = nn.MaxPool2d(kernel_size=2)\n",
    "\n",
    "        self.layer2 = nn.Sequential(\n",
    "            nn.Conv2d(in_channels=16, out_channels=16, kernel_size=3, padding=1),\n",
    "            nn.BatchNorm2d(16),\n",
    "            nn.ReLU()\n",
    "        )\n",
    "\n",
    "        self.pool2 = nn.MaxPool2d(kernel_size=2)\n",
    "\n",
    "        self.layer3 = nn.Sequential(\n",
    "            nn.Conv2d(in_channels=16, out_channels=32, kernel_size=3, padding=1),\n",
    "            nn.BatchNorm2d(32),\n",
    "            nn.ReLU()\n",
    "        )\n",
    "\n",
    "        self.pool3 = nn.MaxPool2d(kernel_size=2)\n",
    "        ### END CODE ###\n",
    "\n",
    "        # Create fully connected layers (nn.Linear)\n",
    "        if self.pool:\n",
    "            self.mlp1 = nn.Linear(32*4*4, 50)\n",
    "        else:\n",
    "            self.mlp1 = nn.Linear(32*32*32, 50)\n",
    "\n",
    "        self.mlp2 = nn.Linear(50, 50)\n",
    "        self.mlp3 = nn.Linear(50, 10)\n",
    "\n",
    "    def forward(self, x):\n",
    "        x = self.layer1(x)\n",
    "        if self.pool:\n",
    "            x = self.pool1(x)\n",
    "\n",
    "        x = self.layer2(x)\n",
    "        if self.pool:\n",
    "            x = self.pool2(x)\n",
    "\n",
    "        x = self.layer3(x)\n",
    "        if self.pool:\n",
    "            x = self.pool3(x)\n",
    "        x = x.reshape(x.shape[0], -1)\n",
    "\n",
    "        x = F.relu(self.mlp1(x))\n",
    "        x = F.relu(self.mlp2(x))\n",
    "        x = self.mlp3(x)\n",
    "\n",
    "        return x"
   ]
  },
  {
   "cell_type": "code",
   "execution_count": 31,
   "metadata": {
    "id": "Ygrxekov097w"
   },
   "outputs": [],
   "source": [
    "def train(model, loader, optimizer):\n",
    "    model.train()\n",
    "    total_loss = 0\n",
    "    total_num = 0\n",
    "    for data, target in tqdm(loader):\n",
    "        out = model(data)\n",
    "        # Calculate loss based on model output and target\n",
    "        loss = F.nll_loss(F.log_softmax(out, dim=1), target)\n",
    "\n",
    "        # Use the optimizer to perform backpropagation\n",
    "        optimizer.zero_grad()\n",
    "        loss.backward()\n",
    "        optimizer.step()\n",
    "\n",
    "        batch_size = len(target)\n",
    "        total_loss += loss.item() * batch_size\n",
    "        total_num += batch_size\n",
    "    avg_loss = total_loss / total_num\n",
    "    return avg_loss\n",
    "\n",
    "@torch.no_grad()\n",
    "def eval(model, loader):\n",
    "    model.eval()\n",
    "    total_loss = 0\n",
    "    total_correct = 0\n",
    "    total_num = 0\n",
    "    for data, target in tqdm(loader):\n",
    "        out = model(data)\n",
    "        # Calculate loss based on model output and target\n",
    "        loss = F.nll_loss(F.log_softmax(out, dim=1), target)\n",
    "\n",
    "        # Get model's prediction\n",
    "        pred = torch.argmax(out, dim=1)\n",
    "\n",
    "        # Count number of correct predictions\n",
    "        correct = accuracy_score(target, pred, normalize=False)\n",
    "\n",
    "        total_correct += correct\n",
    "        batch_size = len(target)\n",
    "        total_loss += loss.item() * batch_size\n",
    "        total_num += batch_size\n",
    "    avg_loss = total_loss / total_num\n",
    "    acc = total_correct / total_num\n",
    "    return avg_loss, acc"
   ]
  },
  {
   "cell_type": "code",
   "execution_count": 32,
   "metadata": {
    "id": "aET_5IqXDsC1",
    "outputId": "8a2e7fcc-8c17-4018-e589-0d67cfaba79f"
   },
   "outputs": [
    {
     "name": "stderr",
     "output_type": "stream",
     "text": [
      "100%|██████████| 229/229 [00:26<00:00,  8.54it/s]\n",
      "100%|██████████| 58/58 [00:06<00:00,  9.64it/s]\n"
     ]
    },
    {
     "name": "stdout",
     "output_type": "stream",
     "text": [
      "Epoch: 1 Train Loss: 1.227153619493542 Val Loss: 0.6528453861726558 Val Acc: 0.8035763035763036\n"
     ]
    },
    {
     "name": "stderr",
     "output_type": "stream",
     "text": [
      "100%|██████████| 229/229 [00:32<00:00,  6.95it/s]\n",
      "100%|██████████| 58/58 [00:04<00:00, 12.07it/s]\n"
     ]
    },
    {
     "name": "stdout",
     "output_type": "stream",
     "text": [
      "Epoch: 2 Train Loss: 0.5629423191417007 Val Loss: 0.49593723576120297 Val Acc: 0.8568796068796068\n"
     ]
    },
    {
     "name": "stderr",
     "output_type": "stream",
     "text": [
      "100%|██████████| 229/229 [00:33<00:00,  6.82it/s]\n",
      "100%|██████████| 58/58 [00:06<00:00,  8.67it/s]\n"
     ]
    },
    {
     "name": "stdout",
     "output_type": "stream",
     "text": [
      "Epoch: 3 Train Loss: 0.4619430889805453 Val Loss: 0.46834037067897977 Val Acc: 0.8613158613158614\n"
     ]
    },
    {
     "name": "stderr",
     "output_type": "stream",
     "text": [
      "100%|██████████| 229/229 [00:36<00:00,  6.24it/s]\n",
      "100%|██████████| 58/58 [00:04<00:00, 12.30it/s]\n"
     ]
    },
    {
     "name": "stdout",
     "output_type": "stream",
     "text": [
      "Epoch: 4 Train Loss: 0.4140270362366345 Val Loss: 0.4317820750028424 Val Acc: 0.8744881244881245\n"
     ]
    },
    {
     "name": "stderr",
     "output_type": "stream",
     "text": [
      "100%|██████████| 229/229 [00:29<00:00,  7.65it/s]\n",
      "100%|██████████| 58/58 [00:05<00:00, 10.71it/s]\n"
     ]
    },
    {
     "name": "stdout",
     "output_type": "stream",
     "text": [
      "Epoch: 5 Train Loss: 0.3774644328789971 Val Loss: 0.4150832778332567 Val Acc: 0.8789243789243789\n"
     ]
    },
    {
     "name": "stderr",
     "output_type": "stream",
     "text": [
      "100%|██████████| 229/229 [00:32<00:00,  7.10it/s]\n",
      "100%|██████████| 58/58 [00:05<00:00, 10.20it/s]\n"
     ]
    },
    {
     "name": "stdout",
     "output_type": "stream",
     "text": [
      "Epoch: 6 Train Loss: 0.3526003925354954 Val Loss: 0.40542702623771376 Val Acc: 0.8775593775593775\n"
     ]
    },
    {
     "name": "stderr",
     "output_type": "stream",
     "text": [
      "100%|██████████| 229/229 [00:31<00:00,  7.25it/s]\n",
      "100%|██████████| 58/58 [00:04<00:00, 12.24it/s]\n"
     ]
    },
    {
     "name": "stdout",
     "output_type": "stream",
     "text": [
      "Epoch: 7 Train Loss: 0.3361472487429305 Val Loss: 0.38950670426119033 Val Acc: 0.8846573846573846\n"
     ]
    },
    {
     "name": "stderr",
     "output_type": "stream",
     "text": [
      "100%|██████████| 229/229 [00:27<00:00,  8.21it/s]\n",
      "100%|██████████| 58/58 [00:04<00:00, 12.79it/s]\n"
     ]
    },
    {
     "name": "stdout",
     "output_type": "stream",
     "text": [
      "Epoch: 8 Train Loss: 0.31951572166684444 Val Loss: 0.3798684354789134 Val Acc: 0.8882063882063882\n"
     ]
    },
    {
     "name": "stderr",
     "output_type": "stream",
     "text": [
      "100%|██████████| 229/229 [00:27<00:00,  8.24it/s]\n",
      "100%|██████████| 58/58 [00:04<00:00, 12.80it/s]\n"
     ]
    },
    {
     "name": "stdout",
     "output_type": "stream",
     "text": [
      "Epoch: 9 Train Loss: 0.3018927976871735 Val Loss: 0.3821809963836001 Val Acc: 0.8877968877968878\n"
     ]
    },
    {
     "name": "stderr",
     "output_type": "stream",
     "text": [
      "100%|██████████| 229/229 [00:28<00:00,  8.00it/s]\n",
      "100%|██████████| 58/58 [00:04<00:00, 12.64it/s]"
     ]
    },
    {
     "name": "stdout",
     "output_type": "stream",
     "text": [
      "Epoch: 10 Train Loss: 0.2915703554271828 Val Loss: 0.3665769079849104 Val Acc: 0.8943488943488943\n"
     ]
    },
    {
     "name": "stderr",
     "output_type": "stream",
     "text": [
      "\n"
     ]
    }
   ],
   "source": [
    "model1 = CNN(pool=True)\n",
    "optimizer = torch.optim.Adam(model1.parameters(), lr=1e-3)\n",
    "best_acc = -np.inf\n",
    "epochs = 10\n",
    "for e in range(1, epochs + 1):\n",
    "    train_loss = train(model1, train_loader, optimizer)\n",
    "    val_loss, val_acc = eval(model1, val_loader)\n",
    "    if val_acc > best_acc:\n",
    "        best_acc = val_acc\n",
    "        best_model1 = model1\n",
    "    print(f\"Epoch: {e} Train Loss: {train_loss} Val Loss: {val_loss} Val Acc: {val_acc}\")"
   ]
  },
  {
   "cell_type": "code",
   "execution_count": 33,
   "metadata": {
    "id": "A7Za_DdlDwJX",
    "outputId": "400569cf-4342-478e-c830-78c931ce76a4"
   },
   "outputs": [
    {
     "name": "stderr",
     "output_type": "stream",
     "text": [
      "100%|██████████| 102/102 [00:09<00:00, 11.07it/s]"
     ]
    },
    {
     "name": "stdout",
     "output_type": "stream",
     "text": [
      "Test accuracy: 0.887\n"
     ]
    },
    {
     "name": "stderr",
     "output_type": "stream",
     "text": [
      "\n"
     ]
    }
   ],
   "source": [
    "_, test_acc = eval(best_model1, test_loader)\n",
    "print(f\"Test accuracy: {np.round(test_acc, 3)}\")"
   ]
  },
  {
   "cell_type": "markdown",
   "metadata": {
    "id": "xLAnNsjsnRpK"
   },
   "source": [
    "b. (5 points) Use torch-summary to print a summary of the model. The number of parameters should be less than the one of the MLP we trained in the previous homework. Why does it have less number of parameters but have higher accuracy?\n",
    "\n",
    "Reference\n",
    "*   https://pypi.org/project/torch-summary/\n"
   ]
  },
  {
   "cell_type": "code",
   "execution_count": 34,
   "metadata": {
    "id": "tkuRsoNxR8dX",
    "outputId": "de567666-5856-40a6-dd98-53a0f1af366f"
   },
   "outputs": [
    {
     "name": "stdout",
     "output_type": "stream",
     "text": [
      "Requirement already satisfied: torch-summary in c:\\users\\simran\\anaconda3\\lib\\site-packages (1.4.5)\n"
     ]
    }
   ],
   "source": [
    "!pip install torch-summary"
   ]
  },
  {
   "cell_type": "code",
   "execution_count": 35,
   "metadata": {
    "id": "fAw8KglVjJ4k",
    "outputId": "503c4708-2668-4c9b-aa4b-7d0a7270b9b5"
   },
   "outputs": [
    {
     "name": "stdout",
     "output_type": "stream",
     "text": [
      "==========================================================================================\n",
      "Layer (type:depth-idx)                   Output Shape              Param #\n",
      "==========================================================================================\n",
      "├─Sequential: 1-1                        [-1, 16, 32, 32]          --\n",
      "|    └─Conv2d: 2-1                       [-1, 16, 32, 32]          448\n",
      "|    └─BatchNorm2d: 2-2                  [-1, 16, 32, 32]          32\n",
      "|    └─ReLU: 2-3                         [-1, 16, 32, 32]          --\n",
      "├─MaxPool2d: 1-2                         [-1, 16, 16, 16]          --\n",
      "├─Sequential: 1-3                        [-1, 16, 16, 16]          --\n",
      "|    └─Conv2d: 2-4                       [-1, 16, 16, 16]          2,320\n",
      "|    └─BatchNorm2d: 2-5                  [-1, 16, 16, 16]          32\n",
      "|    └─ReLU: 2-6                         [-1, 16, 16, 16]          --\n",
      "├─MaxPool2d: 1-4                         [-1, 16, 8, 8]            --\n",
      "├─Sequential: 1-5                        [-1, 32, 8, 8]            --\n",
      "|    └─Conv2d: 2-7                       [-1, 32, 8, 8]            4,640\n",
      "|    └─BatchNorm2d: 2-8                  [-1, 32, 8, 8]            64\n",
      "|    └─ReLU: 2-9                         [-1, 32, 8, 8]            --\n",
      "├─MaxPool2d: 1-6                         [-1, 32, 4, 4]            --\n",
      "├─Linear: 1-7                            [-1, 50]                  25,650\n",
      "├─Linear: 1-8                            [-1, 50]                  2,550\n",
      "├─Linear: 1-9                            [-1, 10]                  510\n",
      "==========================================================================================\n",
      "Total params: 36,246\n",
      "Trainable params: 36,246\n",
      "Non-trainable params: 0\n",
      "Total mult-adds (M): 1.36\n",
      "==========================================================================================\n",
      "Input size (MB): 0.01\n",
      "Forward/backward pass size (MB): 0.34\n",
      "Params size (MB): 0.14\n",
      "Estimated Total Size (MB): 0.49\n",
      "==========================================================================================\n"
     ]
    },
    {
     "data": {
      "text/plain": [
       "==========================================================================================\n",
       "Layer (type:depth-idx)                   Output Shape              Param #\n",
       "==========================================================================================\n",
       "├─Sequential: 1-1                        [-1, 16, 32, 32]          --\n",
       "|    └─Conv2d: 2-1                       [-1, 16, 32, 32]          448\n",
       "|    └─BatchNorm2d: 2-2                  [-1, 16, 32, 32]          32\n",
       "|    └─ReLU: 2-3                         [-1, 16, 32, 32]          --\n",
       "├─MaxPool2d: 1-2                         [-1, 16, 16, 16]          --\n",
       "├─Sequential: 1-3                        [-1, 16, 16, 16]          --\n",
       "|    └─Conv2d: 2-4                       [-1, 16, 16, 16]          2,320\n",
       "|    └─BatchNorm2d: 2-5                  [-1, 16, 16, 16]          32\n",
       "|    └─ReLU: 2-6                         [-1, 16, 16, 16]          --\n",
       "├─MaxPool2d: 1-4                         [-1, 16, 8, 8]            --\n",
       "├─Sequential: 1-5                        [-1, 32, 8, 8]            --\n",
       "|    └─Conv2d: 2-7                       [-1, 32, 8, 8]            4,640\n",
       "|    └─BatchNorm2d: 2-8                  [-1, 32, 8, 8]            64\n",
       "|    └─ReLU: 2-9                         [-1, 32, 8, 8]            --\n",
       "├─MaxPool2d: 1-6                         [-1, 32, 4, 4]            --\n",
       "├─Linear: 1-7                            [-1, 50]                  25,650\n",
       "├─Linear: 1-8                            [-1, 50]                  2,550\n",
       "├─Linear: 1-9                            [-1, 10]                  510\n",
       "==========================================================================================\n",
       "Total params: 36,246\n",
       "Trainable params: 36,246\n",
       "Non-trainable params: 0\n",
       "Total mult-adds (M): 1.36\n",
       "==========================================================================================\n",
       "Input size (MB): 0.01\n",
       "Forward/backward pass size (MB): 0.34\n",
       "Params size (MB): 0.14\n",
       "Estimated Total Size (MB): 0.49\n",
       "=========================================================================================="
      ]
     },
     "execution_count": 35,
     "metadata": {},
     "output_type": "execute_result"
    }
   ],
   "source": [
    "from torchsummary import summary\n",
    "\n",
    "summary(model1, (3, 32, 32))"
   ]
  },
  {
   "cell_type": "markdown",
   "metadata": {
    "id": "f_haa3ZEpicr"
   },
   "source": [
    "> CNNs surpass MLPs in image processing due to their efficient architecture. Their convolutional layers are adept at handling spatial relationships and reduce redundancy with parameter sharing and local connectivity, focusing on important features. Unlike MLPs, CNNs keep the spatial structure of images intact, capturing critical patterns like edges through a process that scans the entire image. Pooling layers further contribute to a CNN's capability to be resilient to slight shifts in position. Overall, these features enable CNNs to be more accurate and efficient than MLPs for tasks involving spatial data."
   ]
  },
  {
   "cell_type": "markdown",
   "metadata": {
    "id": "8eb6rNHsobVb"
   },
   "source": [
    "c. (5 points) Train another CNN with the pool option set to False. What are the differences in terms of accuracy or computation caused by disabling max pooling? What are the effects of pooling operations in CNNs? (This might take some time. Watch a TV show while you're waiting for the results..)"
   ]
  },
  {
   "cell_type": "code",
   "execution_count": 36,
   "metadata": {
    "id": "1m-9yG9VAbgE",
    "outputId": "a047dfdd-e171-42d5-e755-d915b9f7a8e5"
   },
   "outputs": [
    {
     "name": "stderr",
     "output_type": "stream",
     "text": [
      "100%|██████████| 229/229 [00:55<00:00,  4.10it/s]\n",
      "100%|██████████| 58/58 [00:06<00:00,  9.39it/s]\n"
     ]
    },
    {
     "name": "stdout",
     "output_type": "stream",
     "text": [
      "Epoch: 1 Train Loss: 1.0626374755237464 Val Loss: 0.5920150863922524 Val Acc: 0.8273273273273273\n"
     ]
    },
    {
     "name": "stderr",
     "output_type": "stream",
     "text": [
      "100%|██████████| 229/229 [01:09<00:00,  3.30it/s]\n",
      "100%|██████████| 58/58 [00:07<00:00,  8.10it/s]\n"
     ]
    },
    {
     "name": "stdout",
     "output_type": "stream",
     "text": [
      "Epoch: 2 Train Loss: 0.5050778144262886 Val Loss: 0.4975972994409426 Val Acc: 0.8542178542178542\n"
     ]
    },
    {
     "name": "stderr",
     "output_type": "stream",
     "text": [
      "100%|██████████| 229/229 [00:59<00:00,  3.84it/s]\n",
      "100%|██████████| 58/58 [00:06<00:00,  8.38it/s]\n"
     ]
    },
    {
     "name": "stdout",
     "output_type": "stream",
     "text": [
      "Epoch: 3 Train Loss: 0.4170285483786153 Val Loss: 0.4586346668279988 Val Acc: 0.8652061152061152\n"
     ]
    },
    {
     "name": "stderr",
     "output_type": "stream",
     "text": [
      "100%|██████████| 229/229 [01:02<00:00,  3.68it/s]\n",
      "100%|██████████| 58/58 [00:07<00:00,  7.85it/s]\n"
     ]
    },
    {
     "name": "stdout",
     "output_type": "stream",
     "text": [
      "Epoch: 4 Train Loss: 0.3588758644939903 Val Loss: 0.427585068326357 Val Acc: 0.875034125034125\n"
     ]
    },
    {
     "name": "stderr",
     "output_type": "stream",
     "text": [
      "100%|██████████| 229/229 [01:04<00:00,  3.55it/s]\n",
      "100%|██████████| 58/58 [00:06<00:00,  9.08it/s]\n"
     ]
    },
    {
     "name": "stdout",
     "output_type": "stream",
     "text": [
      "Epoch: 5 Train Loss: 0.3199208781167658 Val Loss: 0.4320681552287499 Val Acc: 0.8748293748293748\n"
     ]
    },
    {
     "name": "stderr",
     "output_type": "stream",
     "text": [
      "100%|██████████| 229/229 [00:59<00:00,  3.82it/s]\n",
      "100%|██████████| 58/58 [00:06<00:00,  8.89it/s]\n"
     ]
    },
    {
     "name": "stdout",
     "output_type": "stream",
     "text": [
      "Epoch: 6 Train Loss: 0.2804446710019518 Val Loss: 0.4252813093215756 Val Acc: 0.8776276276276276\n"
     ]
    },
    {
     "name": "stderr",
     "output_type": "stream",
     "text": [
      "100%|██████████| 229/229 [01:02<00:00,  3.66it/s]\n",
      "100%|██████████| 58/58 [00:06<00:00,  9.34it/s]\n"
     ]
    },
    {
     "name": "stdout",
     "output_type": "stream",
     "text": [
      "Epoch: 7 Train Loss: 0.24893411738037932 Val Loss: 0.43172284613337764 Val Acc: 0.8782418782418783\n"
     ]
    },
    {
     "name": "stderr",
     "output_type": "stream",
     "text": [
      "100%|██████████| 229/229 [01:00<00:00,  3.78it/s]\n",
      "100%|██████████| 58/58 [00:06<00:00,  9.43it/s]\n"
     ]
    },
    {
     "name": "stdout",
     "output_type": "stream",
     "text": [
      "Epoch: 8 Train Loss: 0.21813443109002825 Val Loss: 0.45254963003414234 Val Acc: 0.8746246246246246\n"
     ]
    },
    {
     "name": "stderr",
     "output_type": "stream",
     "text": [
      "100%|██████████| 229/229 [01:02<00:00,  3.65it/s]\n",
      "100%|██████████| 58/58 [00:06<00:00,  9.13it/s]\n"
     ]
    },
    {
     "name": "stdout",
     "output_type": "stream",
     "text": [
      "Epoch: 9 Train Loss: 0.1929111884288867 Val Loss: 0.4593426128562083 Val Acc: 0.8746246246246246\n"
     ]
    },
    {
     "name": "stderr",
     "output_type": "stream",
     "text": [
      "100%|██████████| 229/229 [01:00<00:00,  3.77it/s]\n",
      "100%|██████████| 58/58 [00:06<00:00,  9.17it/s]"
     ]
    },
    {
     "name": "stdout",
     "output_type": "stream",
     "text": [
      "Epoch: 10 Train Loss: 0.17332333062642183 Val Loss: 0.4715987218230141 Val Acc: 0.874010374010374\n"
     ]
    },
    {
     "name": "stderr",
     "output_type": "stream",
     "text": [
      "\n"
     ]
    }
   ],
   "source": [
    "model2 = CNN(pool=False)\n",
    "optimizer = torch.optim.Adam(model2.parameters(), lr=1e-3)\n",
    "best_acc = -np.inf\n",
    "epochs = 10\n",
    "for e in range(1, epochs + 1):\n",
    "    train_loss = train(model2, train_loader, optimizer)\n",
    "    val_loss, val_acc = eval(model2, val_loader)\n",
    "    if val_acc > best_acc:\n",
    "        best_acc = val_acc\n",
    "        best_model2 = model2\n",
    "    print(f\"Epoch: {e} Train Loss: {train_loss} Val Loss: {val_loss} Val Acc: {val_acc}\")"
   ]
  },
  {
   "cell_type": "code",
   "execution_count": 37,
   "metadata": {
    "id": "13gIhnYVAbgQ",
    "outputId": "96c93ce1-e3d4-472d-ca97-1ba71f860a74"
   },
   "outputs": [
    {
     "name": "stderr",
     "output_type": "stream",
     "text": [
      "100%|██████████| 102/102 [00:11<00:00,  9.27it/s]"
     ]
    },
    {
     "name": "stdout",
     "output_type": "stream",
     "text": [
      "0.8491087891825445\n"
     ]
    },
    {
     "name": "stderr",
     "output_type": "stream",
     "text": [
      "\n"
     ]
    }
   ],
   "source": [
    "_, test_acc = eval(best_model2, test_loader)\n",
    "print(test_acc)"
   ]
  },
  {
   "cell_type": "markdown",
   "metadata": {
    "id": "7fvqtCpsppMS"
   },
   "source": [
    "> Disabling pooling in CNNs leads to greater model complexity and significantly longer training times without a substantial increase in accuracy. After 10 epochs, model1 **with pooling** achieves an accuracy of 0.887, while model2 **without pooling** has a slightly lower accuracy of 0.849 but incurs much higher computational costs. The higher resolution in model2 doesn't translate into better performance in this dataset, as the reduction in spatial dimensions by max pooling in model1 doesn't detrimentally affect accuracy but does improve efficiency drastically. Thus, while omitting max pooling could be beneficial for tasks necessitating detailed spatial information, in this scenario, enabling max pooling is the more time-efficient choice with a negligible impact on accuracy."
   ]
  }
 ],
 "metadata": {
  "colab": {
   "collapsed_sections": [
    "bc9ca1b5",
    "jZXTR1tM7yBp"
   ],
   "provenance": [],
   "toc_visible": true
  },
  "kernelspec": {
   "display_name": "Python 3 (ipykernel)",
   "language": "python",
   "name": "python3"
  },
  "language_info": {
   "codemirror_mode": {
    "name": "ipython",
    "version": 3
   },
   "file_extension": ".py",
   "mimetype": "text/x-python",
   "name": "python",
   "nbconvert_exporter": "python",
   "pygments_lexer": "ipython3",
   "version": "3.9.13"
  }
 },
 "nbformat": 4,
 "nbformat_minor": 1
}
